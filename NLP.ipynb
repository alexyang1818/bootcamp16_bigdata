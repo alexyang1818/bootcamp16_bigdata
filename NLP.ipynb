{
 "cells": [
  {
   "cell_type": "markdown",
   "id": "06f3388a",
   "metadata": {},
   "source": [
    "Install NLTK:\n",
    "    pip install nltk"
   ]
  },
  {
   "cell_type": "markdown",
   "id": "0ef7d2da",
   "metadata": {},
   "source": [
    "\n",
    "Install additional NLTK tools:\n",
    "    python -m nltk.downloader popular"
   ]
  },
  {
   "cell_type": "code",
   "execution_count": 4,
   "id": "c8133534",
   "metadata": {},
   "outputs": [
    {
     "name": "stdout",
     "output_type": "stream",
     "text": [
      "[('I', 'PRP'), ('enjoy', 'VBP'), ('biking', 'VBG'), ('on', 'IN'), ('the', 'DT'), ('trails', 'NNS'), ('.', '.')]\n"
     ]
    }
   ],
   "source": [
    "import nltk\n",
    "from nltk import word_tokenize\n",
    "text = word_tokenize(\"I enjoy biking on the trails.\")\n",
    "output = nltk.pos_tag(text) # part-of-speech tagging\n",
    "print(output)"
   ]
  },
  {
   "cell_type": "code",
   "execution_count": 5,
   "id": "5d02f3fe",
   "metadata": {},
   "outputs": [
    {
     "name": "stdout",
     "output_type": "stream",
     "text": [
      "[('This', 'DT'), ('is', 'VBZ'), ('my', 'PRP$'), ('sentence', 'NN'), ('.', '.')]\n"
     ]
    }
   ],
   "source": [
    "text = word_tokenize(\"This is my sentence.\")\n",
    "output = nltk.pos_tag(text)\n",
    "print(output)"
   ]
  },
  {
   "cell_type": "code",
   "execution_count": null,
   "id": "5f346b1f",
   "metadata": {},
   "outputs": [],
   "source": []
  }
 ],
 "metadata": {
  "kernelspec": {
   "display_name": "Python [conda env:.conda-databootcamp] *",
   "language": "python",
   "name": "conda-env-.conda-databootcamp-py"
  },
  "language_info": {
   "codemirror_mode": {
    "name": "ipython",
    "version": 3
   },
   "file_extension": ".py",
   "mimetype": "text/x-python",
   "name": "python",
   "nbconvert_exporter": "python",
   "pygments_lexer": "ipython3",
   "version": "3.6.10"
  }
 },
 "nbformat": 4,
 "nbformat_minor": 5
}
